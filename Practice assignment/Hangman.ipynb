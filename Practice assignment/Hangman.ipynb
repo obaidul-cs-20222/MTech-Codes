{
  "cells": [
    {
      "cell_type": "markdown",
      "metadata": {
        "colab_type": "text",
        "id": "view-in-github"
      },
      "source": [
        "<a href=\"https://colab.research.google.com/github/DebasmitaSen/AssignmentSem1/blob/main/Untitled6.ipynb\" target=\"_parent\"><img src=\"https://colab.research.google.com/assets/colab-badge.svg\" alt=\"Open In Colab\"/></a>"
      ]
    },
    {
      "cell_type": "code",
      "execution_count": 20,
      "metadata": {
        "colab": {
          "base_uri": "https://localhost:8080/"
        },
        "id": "Vkt8_voXSyN6",
        "outputId": "928d564f-6a19-4a3c-9dea-fa9e15dcd413"
      },
      "outputs": [
        {
          "name": "stderr",
          "output_type": "stream",
          "text": [
            "[nltk_data] Downloading package words to /root/nltk_data...\n",
            "[nltk_data]   Package words is already up-to-date!\n"
          ]
        },
        {
          "data": {
            "text/plain": [
              "True"
            ]
          },
          "execution_count": 20,
          "metadata": {},
          "output_type": "execute_result"
        }
      ],
      "source": [
        "import nltk\n",
        "nltk.download('words')"
      ]
    },
    {
      "cell_type": "code",
      "execution_count": null,
      "metadata": {
        "id": "MoBcV_wWS5yV"
      },
      "outputs": [],
      "source": [
        "from nltk.corpus import words\n",
        "import random\n",
        "\n",
        "w=words.words()\n",
        "wordlist=list(set(w))[:55900]\n",
        "index=random.randint(0,len(wordlist))\n",
        "x=(wordlist[index])\n",
        "x.lower()\n",
        "guess=len(set(x))\n",
        "# print(x,guess)\n",
        "print(f\"You have {guess} guesses\")\n",
        "print(\"Enter your guess\")\n",
        "lst=[\"_\"]*len(x)\n",
        "wincount=len(x)\n",
        "flag=0\n",
        "\n",
        "\n",
        "while guess>=1:\n",
        "\n",
        "  chr=input()\n",
        "  if chr==x:\n",
        "    print(\"you won\")\n",
        "    print(\"word: \",x)\n",
        "    flag=1\n",
        "    break\n",
        "\n",
        "  if(chr in x):\n",
        "    for l in x:\n",
        "      if(l==chr):\n",
        "        indexes = [i for i, c in enumerate(x) if c == chr]\n",
        "        for i in indexes:\n",
        "          lst[i]=chr\n",
        "    print(lst)\n",
        "    print(f\"you have {guess} guesses left\")\n",
        "    wincount-=len(indexes)\n",
        "  else:\n",
        "    guess-=1\n",
        "    print(\"Your guess is wrong, Hangman\")\n",
        "    print(lst)\n",
        "    print(f\"you have {guess} guesses left\")\n",
        "\n",
        "\n",
        "  if(wincount==0):\n",
        "    print(\"you won\")\n",
        "    print(\"word: \",x)\n",
        "    break\n",
        "\n",
        "if wincount>0 and flag==0:\n",
        "  print(\"you lost\")\n",
        "  print(\"word: \",x)"
      ]
    }
  ],
  "metadata": {
    "colab": {
      "authorship_tag": "ABX9TyO+vHodOEuwZvMLw4E0KEop",
      "include_colab_link": true,
      "provenance": []
    },
    "kernelspec": {
      "display_name": "Python 3",
      "name": "python3"
    },
    "language_info": {
      "name": "python",
      "version": "3.12.0"
    }
  },
  "nbformat": 4,
  "nbformat_minor": 0
}
